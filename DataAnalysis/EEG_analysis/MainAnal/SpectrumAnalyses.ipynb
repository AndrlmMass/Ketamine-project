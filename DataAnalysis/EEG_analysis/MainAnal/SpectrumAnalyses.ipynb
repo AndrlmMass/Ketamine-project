{
 "cells": [
  {
   "cell_type": "code",
   "execution_count": 3,
   "metadata": {},
   "outputs": [],
   "source": [
    "#Import libraries\n",
    "import mne \n",
    "import matplotlib.pyplot as plt\n",
    "import numpy as np\n",
    "import pickle\n",
    "import os"
   ]
  },
  {
   "cell_type": "code",
   "execution_count": 43,
   "metadata": {},
   "outputs": [
    {
     "ename": "TypeError",
     "evalue": "BaseEpochs.get_data() got an unexpected keyword argument 'return_times'",
     "output_type": "error",
     "traceback": [
      "\u001b[1;31m---------------------------------------------------------------------------\u001b[0m",
      "\u001b[1;31mTypeError\u001b[0m                                 Traceback (most recent call last)",
      "Cell \u001b[1;32mIn[43], line 15\u001b[0m\n\u001b[0;32m     13\u001b[0m \u001b[39mwith\u001b[39;00m \u001b[39mopen\u001b[39m(file_path,\u001b[39m'\u001b[39m\u001b[39mrb\u001b[39m\u001b[39m'\u001b[39m) \u001b[39mas\u001b[39;00m g:\n\u001b[0;32m     14\u001b[0m     raw \u001b[39m=\u001b[39m pickle\u001b[39m.\u001b[39mload(g)\n\u001b[1;32m---> 15\u001b[0m raw_arr, times \u001b[39m=\u001b[39m raw\u001b[39m.\u001b[39;49mget_data(return_times \u001b[39m=\u001b[39;49m \u001b[39mTrue\u001b[39;49;00m)\n\u001b[0;32m     16\u001b[0m \u001b[39m#Get the participant ID\u001b[39;00m\n\u001b[0;32m     17\u001b[0m ID \u001b[39m=\u001b[39m filename\u001b[39m.\u001b[39msplit(\u001b[39m'\u001b[39m\u001b[39m_\u001b[39m\u001b[39m'\u001b[39m,maxsplit\u001b[39m=\u001b[39m\u001b[39m1\u001b[39m)[\u001b[39m0\u001b[39m]\n",
      "\u001b[1;31mTypeError\u001b[0m: BaseEpochs.get_data() got an unexpected keyword argument 'return_times'"
     ]
    }
   ],
   "source": [
    "#Create dictionary with all the data grouped by condition\n",
    "    \n",
    "#Create root folder argument for folders to loop through\n",
    "root_folder = 'M:\\\\pc\\\\Dokumenter\\\\GitHub\\\\Ketamine-project\\\\DataAnalysis\\\\EEG_analysis\\\\PreProc\\\\Epoched_Data'\n",
    "os.chdir(root_folder)\n",
    "\n",
    "\n",
    "DataB = {'EO':{},'EC':{},'INDUCTION':{},'SED_1':{},'SED_2':{},'SED_3':{},'SED_4':{},'EMERGENCE':{}}\n",
    "\n",
    "for folder in os.listdir(root_folder):\n",
    "    for filename in os.listdir(folder): \n",
    "        file_path = os.path.join(folder, filename)\n",
    "        with open(file_path,'rb') as g:\n",
    "            raw = pickle.load(g)\n",
    "        raw_arr, times = raw.get_data(return_times = True)\n",
    "        #Get the participant ID\n",
    "        ID = filename.split('_',maxsplit=1)[0]\n",
    "        #Get condition\n",
    "        cond = '_'.join(filename.split('_')[1:-1])\n",
    "        if 'EC' in cond:\n",
    "            cond = 'EC'\n",
    "        elif 'EO' in cond:\n",
    "            cond = 'EO'\n",
    "        #Add array element to dictionary\n",
    "        DataB[cond][ID] = raw_arr\n",
    "nu_fold = 'M:\\\\pc\\\\Dokumenter\\\\GitHub\\\\Ketamine-project\\\\DataAnalysis\\\\EEG_analysis\\\\MainAnal\\\\SpectrumAnal' \n",
    "\n",
    "with open(nu_fold + '\\\\DataB.pkl', 'wb') as f:\n",
    "        pickle.dump(DataB, f)\n",
    "f.close()\n",
    "        "
   ]
  },
  {
   "cell_type": "code",
   "execution_count": 5,
   "metadata": {},
   "outputs": [],
   "source": [
    "#Create dictionary with all the data grouped by condition\n",
    "    \n",
    "#Create root folder argument for folders to loop through\n",
    "root_folder = 'M:\\\\pc\\\\Dokumenter\\\\GitHub\\\\Ketamine-project\\\\DataAnalysis\\\\EEG_analysis\\\\PreProc\\\\Epoched_Data'\n",
    "os.chdir(root_folder)\n",
    "\n",
    "\n",
    "DataB = {'EO':{},'EC':{},'INDUCTION':{},'SED_1':{},'SED_2':{},'SED_3':{},'SED_4':{},'EMERGENCE':{}}\n",
    "\n",
    "for folder in os.listdir(root_folder):\n",
    "    for filename in os.listdir(folder): \n",
    "        file_path = os.path.join(folder, filename)\n",
    "        with open(file_path,'rb') as g:\n",
    "            raw = pickle.load(g)\n",
    "        #Get the participant ID\n",
    "        ID = filename.split('_',maxsplit=1)[0]\n",
    "        #Get condition\n",
    "        cond = '_'.join(filename.split('_')[1:-1])\n",
    "        if 'EC' in cond:\n",
    "            cond = 'EC'\n",
    "        elif 'EO' in cond:\n",
    "            cond = 'EO'\n",
    "        #Add array element to dictionary\n",
    "        DataB[cond][ID] = raw\n",
    "nu_fold = 'M:\\\\pc\\\\Dokumenter\\\\GitHub\\\\Ketamine-project\\\\DataAnalysis\\\\EEG_analysis\\\\MainAnal\\\\SpectrumAnal' \n",
    "\n",
    "with open(nu_fold + '\\\\DataB_mne.pkl', 'wb') as f:\n",
    "        pickle.dump(DataB, f)\n",
    "f.close()"
   ]
  },
  {
   "cell_type": "code",
   "execution_count": 7,
   "metadata": {},
   "outputs": [],
   "source": [
    "from statistics import mean\n",
    "file_path = \"M:\\\\pc\\\\Dokumenter\\\\GitHub\\\\Ketamine-project\\\\DataAnalysis\\\\EEG_analysis\\\\MainAnal\\\\SpectrumAnal\\\\DataB_mne.pkl\"\n",
    "with open(file_path,'rb') as g:\n",
    "            raw = pickle.load(g)\n",
    "DataB = raw.copy()"
   ]
  },
  {
   "cell_type": "code",
   "execution_count": 2,
   "metadata": {},
   "outputs": [
    {
     "ename": "NameError",
     "evalue": "name 'DataB' is not defined",
     "output_type": "error",
     "traceback": [
      "\u001b[1;31m---------------------------------------------------------------------------\u001b[0m",
      "\u001b[1;31mNameError\u001b[0m                                 Traceback (most recent call last)",
      "Cell \u001b[1;32mIn[2], line 1\u001b[0m\n\u001b[1;32m----> 1\u001b[0m \u001b[39mprint\u001b[39m(DataB\u001b[39m.\u001b[39mshape)\n",
      "\u001b[1;31mNameError\u001b[0m: name 'DataB' is not defined"
     ]
    }
   ],
   "source": [
    "print(DataB.shape)"
   ]
  },
  {
   "cell_type": "code",
   "execution_count": 16,
   "metadata": {},
   "outputs": [
    {
     "name": "stdout",
     "output_type": "stream",
     "text": [
      "    Using multitaper spectrum estimation with 7 DPSS windows\n",
      "    Using multitaper spectrum estimation with 7 DPSS windows\n",
      "    Using multitaper spectrum estimation with 7 DPSS windows\n",
      "    Using multitaper spectrum estimation with 7 DPSS windows\n",
      "    Using multitaper spectrum estimation with 7 DPSS windows\n",
      "    Using multitaper spectrum estimation with 7 DPSS windows\n",
      "    Using multitaper spectrum estimation with 7 DPSS windows\n",
      "    Using multitaper spectrum estimation with 7 DPSS windows\n",
      "    Using multitaper spectrum estimation with 7 DPSS windows\n",
      "    Using multitaper spectrum estimation with 7 DPSS windows\n",
      "    Using multitaper spectrum estimation with 7 DPSS windows\n",
      "    Using multitaper spectrum estimation with 7 DPSS windows\n",
      "    Using multitaper spectrum estimation with 7 DPSS windows\n",
      "    Using multitaper spectrum estimation with 7 DPSS windows\n",
      "    Using multitaper spectrum estimation with 7 DPSS windows\n",
      "    Using multitaper spectrum estimation with 7 DPSS windows\n",
      "    Using multitaper spectrum estimation with 7 DPSS windows\n",
      "    Using multitaper spectrum estimation with 7 DPSS windows\n",
      "    Using multitaper spectrum estimation with 7 DPSS windows\n",
      "    Using multitaper spectrum estimation with 7 DPSS windows\n",
      "    Using multitaper spectrum estimation with 7 DPSS windows\n",
      "    Using multitaper spectrum estimation with 7 DPSS windows\n",
      "    Using multitaper spectrum estimation with 7 DPSS windows\n",
      "    Using multitaper spectrum estimation with 7 DPSS windows\n",
      "    Using multitaper spectrum estimation with 7 DPSS windows\n",
      "    Using multitaper spectrum estimation with 7 DPSS windows\n",
      "    Using multitaper spectrum estimation with 7 DPSS windows\n",
      "    Using multitaper spectrum estimation with 7 DPSS windows\n",
      "    Using multitaper spectrum estimation with 7 DPSS windows\n",
      "    Using multitaper spectrum estimation with 7 DPSS windows\n",
      "    Using multitaper spectrum estimation with 7 DPSS windows\n",
      "    Using multitaper spectrum estimation with 7 DPSS windows\n",
      "    Using multitaper spectrum estimation with 7 DPSS windows\n",
      "    Using multitaper spectrum estimation with 7 DPSS windows\n",
      "    Using multitaper spectrum estimation with 7 DPSS windows\n",
      "    Using multitaper spectrum estimation with 7 DPSS windows\n",
      "    Using multitaper spectrum estimation with 7 DPSS windows\n",
      "    Using multitaper spectrum estimation with 7 DPSS windows\n",
      "    Using multitaper spectrum estimation with 7 DPSS windows\n",
      "    Using multitaper spectrum estimation with 7 DPSS windows\n",
      "    Using multitaper spectrum estimation with 7 DPSS windows\n",
      "    Using multitaper spectrum estimation with 7 DPSS windows\n",
      "    Using multitaper spectrum estimation with 7 DPSS windows\n",
      "    Using multitaper spectrum estimation with 7 DPSS windows\n",
      "    Using multitaper spectrum estimation with 7 DPSS windows\n",
      "    Using multitaper spectrum estimation with 7 DPSS windows\n",
      "    Using multitaper spectrum estimation with 7 DPSS windows\n",
      "    Using multitaper spectrum estimation with 7 DPSS windows\n",
      "    Using multitaper spectrum estimation with 7 DPSS windows\n",
      "    Using multitaper spectrum estimation with 7 DPSS windows\n",
      "    Using multitaper spectrum estimation with 7 DPSS windows\n",
      "    Using multitaper spectrum estimation with 7 DPSS windows\n",
      "    Using multitaper spectrum estimation with 7 DPSS windows\n",
      "    Using multitaper spectrum estimation with 7 DPSS windows\n"
     ]
    }
   ],
   "source": [
    "%matplotlib qt\n",
    "\n",
    "root_folder = \"M:\\\\pc\\\\Dokumenter\\\\GitHub\\\\Ketamine-project\\\\DataAnalysis\\\\EEG_analysis\\\\MainAnal\\\\SpectrumAnal\\\\DataB.pkl\"\n",
    "#Loop through all the data and group the psd by condition, then plot the comparison\n",
    "psd = [[0]*len(DataB)]*8\n",
    "for cond in DataB.keys():\n",
    "    i = 0\n",
    "    for pers in DataB[cond]:\n",
    "        psd[i].append(DataB[cond][pers].compute_psd().get_data())\n",
    "        i += 0\n",
    "#for cols in np.shape(psd)[1]:\n",
    "#    np.mean"
   ]
  },
  {
   "cell_type": "code",
   "execution_count": 19,
   "metadata": {},
   "outputs": [
    {
     "name": "stdout",
     "output_type": "stream",
     "text": [
      "62\n"
     ]
    }
   ],
   "source": [
    "print(len(psd[:][1]))"
   ]
  },
  {
   "cell_type": "code",
   "execution_count": 9,
   "metadata": {},
   "outputs": [
    {
     "name": "stdout",
     "output_type": "stream",
     "text": [
      "> \u001b[1;32mc:\\users\\andrlm\\appdata\\local\\temp\\ipykernel_13008\\1950475633.py\u001b[0m(18)\u001b[0;36m<listcomp>\u001b[1;34m()\u001b[0m\n",
      "\n",
      ".0 = <dict_keyiterator object at 0x00000265F0BF8A90>\n",
      ".0 = <dict_keyiterator object at 0x00000265F0BF8A90>\n"
     ]
    }
   ],
   "source": [
    "%debug"
   ]
  },
  {
   "cell_type": "code",
   "execution_count": null,
   "metadata": {},
   "outputs": [],
   "source": []
  }
 ],
 "metadata": {
  "kernelspec": {
   "display_name": "Python 3.10.4 64-bit",
   "language": "python",
   "name": "python3"
  },
  "language_info": {
   "codemirror_mode": {
    "name": "ipython",
    "version": 3
   },
   "file_extension": ".py",
   "mimetype": "text/x-python",
   "name": "python",
   "nbconvert_exporter": "python",
   "pygments_lexer": "ipython3",
   "version": "3.10.4"
  },
  "orig_nbformat": 4,
  "vscode": {
   "interpreter": {
    "hash": "142fce53b6f2b91b97dca80dfeb7f3677964d22b620fffd446cffe90630072c0"
   }
  }
 },
 "nbformat": 4,
 "nbformat_minor": 2
}
