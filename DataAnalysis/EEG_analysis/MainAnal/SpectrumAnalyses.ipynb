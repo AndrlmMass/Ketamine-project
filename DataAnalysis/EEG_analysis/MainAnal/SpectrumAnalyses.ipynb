{
 "cells": [
  {
   "cell_type": "code",
   "execution_count": 3,
   "metadata": {},
   "outputs": [],
   "source": [
    "#Import libraries\n",
    "import mne \n",
    "import matplotlib.pyplot as plt\n",
    "import numpy as np\n",
    "import pickle\n",
    "import os"
   ]
  },
  {
   "cell_type": "code",
   "execution_count": 164,
   "metadata": {},
   "outputs": [],
   "source": [
    "#Create dictionary with all the data grouped by condition\n",
    "    \n",
    "#Create root folder argument for folders to loop through\n",
    "root_folder = 'M:\\\\pc\\\\Dokumenter\\\\GitHub\\\\Ketamine-project\\\\DataAnalysis\\\\EEG_analysis\\\\PreProc\\\\Epoched_Data'\n",
    "os.chdir(root_folder)\n",
    "\n",
    "\n",
    "DataA = {'EO':{},'EC':{},'INDUCTION':{},'SED_1':{},'SED_2':{},'SED_3':{},'SED_4':{},'EMERGENCE':{}}\n",
    "\n",
    "for folder in os.listdir(root_folder):\n",
    "    for filename in os.listdir(folder): \n",
    "        file_path = os.path.join(folder, filename)\n",
    "        with open(file_path,'rb') as g:\n",
    "            raw = pickle.load(g)\n",
    "        #Get the participant ID\n",
    "        ID = filename.split('_',maxsplit=1)[0]\n",
    "        #Get condition\n",
    "        cond = '_'.join(filename.split('_')[1:-1])\n",
    "        if 'EC' in cond:\n",
    "            cond = 'EC'\n",
    "        elif 'EO' in cond:\n",
    "            cond = 'EO'\n",
    "        #Add array element to dictionary\n",
    "        DataA[cond][ID] = raw.get_data()\n",
    "nu_fold = 'M:\\\\pc\\\\Dokumenter\\\\GitHub\\\\Ketamine-project\\\\DataAnalysis\\\\EEG_analysis\\\\MainAnal\\\\SpectrumAnal' \n",
    "\n",
    "with open(nu_fold + '\\\\DataA.pkl', 'wb') as f:\n",
    "        pickle.dump(DataA, f)\n",
    "f.close()"
   ]
  },
  {
   "cell_type": "code",
   "execution_count": 134,
   "metadata": {},
   "outputs": [],
   "source": [
    "from statistics import mean\n",
    "file_path = \"M:\\\\pc\\\\Dokumenter\\\\GitHub\\\\Ketamine-project\\\\DataAnalysis\\\\EEG_analysis\\\\MainAnal\\\\SpectrumAnal\\\\DataB_mne.pkl\"\n",
    "with open(file_path,'rb') as g:\n",
    "            raw = pickle.load(g)\n",
    "DataB = raw.copy()"
   ]
  },
  {
   "cell_type": "code",
   "execution_count": 151,
   "metadata": {},
   "outputs": [],
   "source": [
    "from statistics import mean\n",
    "file_path = \"M:\\\\pc\\\\Dokumenter\\\\GitHub\\\\Ketamine-project\\\\DataAnalysis\\\\EEG_analysis\\\\MainAnal\\\\SpectrumAnal\\\\DataA.pkl\"\n",
    "with open(file_path,'rb') as g:\n",
    "            raw = pickle.load(g)\n",
    "DataA = raw.copy()"
   ]
  },
  {
   "cell_type": "code",
   "execution_count": 20,
   "metadata": {},
   "outputs": [
    {
     "name": "stdout",
     "output_type": "stream",
     "text": [
      "    Using multitaper spectrum estimation with 7 DPSS windows\n",
      "    Using multitaper spectrum estimation with 7 DPSS windows\n",
      "    Using multitaper spectrum estimation with 7 DPSS windows\n",
      "    Using multitaper spectrum estimation with 7 DPSS windows\n",
      "    Using multitaper spectrum estimation with 7 DPSS windows\n",
      "    Using multitaper spectrum estimation with 7 DPSS windows\n",
      "    Using multitaper spectrum estimation with 7 DPSS windows\n",
      "    Using multitaper spectrum estimation with 7 DPSS windows\n",
      "    Using multitaper spectrum estimation with 7 DPSS windows\n",
      "    Using multitaper spectrum estimation with 7 DPSS windows\n",
      "    Using multitaper spectrum estimation with 7 DPSS windows\n",
      "    Using multitaper spectrum estimation with 7 DPSS windows\n",
      "    Using multitaper spectrum estimation with 7 DPSS windows\n",
      "    Using multitaper spectrum estimation with 7 DPSS windows\n",
      "    Using multitaper spectrum estimation with 7 DPSS windows\n",
      "    Using multitaper spectrum estimation with 7 DPSS windows\n",
      "    Using multitaper spectrum estimation with 7 DPSS windows\n",
      "    Using multitaper spectrum estimation with 7 DPSS windows\n",
      "    Using multitaper spectrum estimation with 7 DPSS windows\n",
      "    Using multitaper spectrum estimation with 7 DPSS windows\n",
      "    Using multitaper spectrum estimation with 7 DPSS windows\n",
      "    Using multitaper spectrum estimation with 7 DPSS windows\n",
      "    Using multitaper spectrum estimation with 7 DPSS windows\n",
      "    Using multitaper spectrum estimation with 7 DPSS windows\n",
      "    Using multitaper spectrum estimation with 7 DPSS windows\n",
      "    Using multitaper spectrum estimation with 7 DPSS windows\n",
      "    Using multitaper spectrum estimation with 7 DPSS windows\n",
      "    Using multitaper spectrum estimation with 7 DPSS windows\n",
      "    Using multitaper spectrum estimation with 7 DPSS windows\n",
      "    Using multitaper spectrum estimation with 7 DPSS windows\n",
      "    Using multitaper spectrum estimation with 7 DPSS windows\n",
      "    Using multitaper spectrum estimation with 7 DPSS windows\n",
      "    Using multitaper spectrum estimation with 7 DPSS windows\n",
      "    Using multitaper spectrum estimation with 7 DPSS windows\n",
      "    Using multitaper spectrum estimation with 7 DPSS windows\n",
      "    Using multitaper spectrum estimation with 7 DPSS windows\n",
      "    Using multitaper spectrum estimation with 7 DPSS windows\n",
      "    Using multitaper spectrum estimation with 7 DPSS windows\n",
      "    Using multitaper spectrum estimation with 7 DPSS windows\n",
      "    Using multitaper spectrum estimation with 7 DPSS windows\n",
      "    Using multitaper spectrum estimation with 7 DPSS windows\n",
      "    Using multitaper spectrum estimation with 7 DPSS windows\n",
      "    Using multitaper spectrum estimation with 7 DPSS windows\n",
      "    Using multitaper spectrum estimation with 7 DPSS windows\n",
      "    Using multitaper spectrum estimation with 7 DPSS windows\n",
      "    Using multitaper spectrum estimation with 7 DPSS windows\n",
      "    Using multitaper spectrum estimation with 7 DPSS windows\n",
      "    Using multitaper spectrum estimation with 7 DPSS windows\n",
      "    Using multitaper spectrum estimation with 7 DPSS windows\n",
      "    Using multitaper spectrum estimation with 7 DPSS windows\n",
      "    Using multitaper spectrum estimation with 7 DPSS windows\n",
      "    Using multitaper spectrum estimation with 7 DPSS windows\n",
      "    Using multitaper spectrum estimation with 7 DPSS windows\n",
      "    Using multitaper spectrum estimation with 7 DPSS windows\n"
     ]
    }
   ],
   "source": [
    "%matplotlib qt\n",
    "\n",
    "root_folder = \"M:\\\\pc\\\\Dokumenter\\\\GitHub\\\\Ketamine-project\\\\DataAnalysis\\\\EEG_analysis\\\\MainAnal\\\\SpectrumAnal\\\\DataB.pkl\"\n",
    "#Loop through all the data and group the psd by condition, then plot the comparison\n",
    "psdss = [[0],[0],[0],[0],[0],[0],[0],[0]]\n",
    "t = 0\n",
    "for cond in DataA.keys():\n",
    "    i = 0\n",
    "    pitstop = list()\n",
    "    #if cond not in ['INDUCTION','EMERGENCE', 'SED_2', 'SED_3', 'EC', 'EO']:\n",
    "    for pers in DataB[cond]:\n",
    "        psds, sfreq = mne.time_frequency.psd_array_multitaper(DataA[cond][pers],sfreq=500)\n",
    "        pitstop.append(np.mean(np.mean(psds,axis=0),axis=0))\n",
    "        i += 1\n",
    "    psdss[t] = [np.mean(pitstop,axis=0)]\n",
    "    t += 1 "
   ]
  },
  {
   "cell_type": "code",
   "execution_count": 4,
   "metadata": {},
   "outputs": [],
   "source": [
    "import pandas as pd\n",
    "import math"
   ]
  },
  {
   "cell_type": "code",
   "execution_count": 137,
   "metadata": {},
   "outputs": [
    {
     "name": "stdout",
     "output_type": "stream",
     "text": [
      "<Epochs |  33 events (all good), -0.2 - 0.5 sec, baseline -0.2 – 0 sec, ~5.7 MB, data loaded,\n",
      " '1': 33>\n",
      "(33, 63, 351)\n"
     ]
    }
   ],
   "source": [
    "print(DataB['EO']['SD5001'])\n",
    "print(DataA['EO']['SD5001'].shape)"
   ]
  },
  {
   "cell_type": "code",
   "execution_count": 5,
   "metadata": {},
   "outputs": [],
   "source": [
    "def total_sum(A,B):\n",
    "    if type(A) == str:\n",
    "        A = int(float(A))\n",
    "    if type(B) == str:\n",
    "        B = int(float(B))\n",
    "    if math.isnan(A) & math.isnan(B):\n",
    "        return 0\n",
    "    elif math.isnan(B):\n",
    "        return A\n",
    "    elif math.isnan(A):\n",
    "        return B\n",
    "    else:\n",
    "        return int(A) + int(B)"
   ]
  },
  {
   "cell_type": "code",
   "execution_count": 6,
   "metadata": {},
   "outputs": [],
   "source": [
    "def find_string_3d(string, arr):\n",
    "    for i in range(len(arr)):\n",
    "        for j in range(len(arr[i])):\n",
    "            for k in range(len(arr[i][j])):\n",
    "                if arr[i][j][k] == string:\n",
    "                    return int(string.split(': ',maxsplit=1)[1])\n",
    "    return UserWarning(\"ED score not found\")\n"
   ]
  },
  {
   "cell_type": "code",
   "execution_count": 7,
   "metadata": {},
   "outputs": [],
   "source": [
    "def get_dimensions(arr):\n",
    "    if isinstance(arr, list):\n",
    "        dimensions = [len(arr)]\n",
    "        sub_dimensions = get_dimensions(arr[0])\n",
    "        if isinstance(sub_dimensions, list):\n",
    "            dimensions.extend(sub_dimensions)\n",
    "        return dimensions\n",
    "    else:\n",
    "        return UserWarning(\"Not a list object\")\n"
   ]
  },
  {
   "cell_type": "code",
   "execution_count": 134,
   "metadata": {},
   "outputs": [],
   "source": [
    "file_path = \"M:\\\\pc\\\\Dokumenter\\\\GitHub\\\\Ketamine-project\\\\DataAnalysis\\\\EEG_analysis\\\\MainAnal\\\\SpectrumAnal\\\\DataA.pkl\"\n",
    "with open(file_path,'rb') as g:\n",
    "            raw = pickle.load(g)\n",
    "DataA = raw.copy()"
   ]
  },
  {
   "cell_type": "code",
   "execution_count": 136,
   "metadata": {},
   "outputs": [],
   "source": [
    "#Apply 50hz notch filter\n",
    "from scipy import signal\n",
    "import numpy as np\n",
    "\n",
    "for key in DataA.keys():\n",
    "    for per in DataA[key].keys():\n",
    "        data = DataA[key][per]\n",
    "        \n",
    "        # Define the notch filter parameters\n",
    "        fs = 500  # Sampling rate\n",
    "        f0 = 45  # Notch frequency\n",
    "        Q = 30  # Quality factor\n",
    "\n",
    "        # Design the notch filter\n",
    "        b, a = signal.iirnotch(f0, Q, fs)\n",
    "\n",
    "        # Apply the notch filter to the data and replace the previous data\n",
    "        DataA[key][per] = signal.filtfilt(b, a, data)\n",
    "#Save the new file\n",
    "with open(os.path.join('M:\\\\pc\\\\Dokumenter\\\\GitHub\\\\Ketamine-project\\\\DataAnalysis\\\\EEG_analysis\\\\PreProc\\\\LowPassedData',\"DataA_LowPassed.pkl\"), 'wb') as f:\n",
    "    pickle.dump(DataA, f) \n",
    "\n",
    "f.close()\n",
    "    "
   ]
  },
  {
   "cell_type": "code",
   "execution_count": 137,
   "metadata": {},
   "outputs": [],
   "source": [
    "file_path = \"M:\\\\pc\\\\Dokumenter\\\\GitHub\\\\Ketamine-project\\\\DataAnalysis\\\\EEG_analysis\\\\PreProc\\\\LowPassedData\\\\DataA_LowPassed.pkl\"\n",
    "with open(file_path,'rb') as g:\n",
    "            raw = pickle.load(g)\n",
    "DataA = raw.copy()"
   ]
  },
  {
   "cell_type": "code",
   "execution_count": 140,
   "metadata": {},
   "outputs": [
    {
     "name": "stdout",
     "output_type": "stream",
     "text": [
      "    Using multitaper spectrum estimation with 7 DPSS windows\n",
      "    Using multitaper spectrum estimation with 7 DPSS windows\n",
      "    Using multitaper spectrum estimation with 7 DPSS windows\n",
      "    Using multitaper spectrum estimation with 7 DPSS windows\n",
      "    Using multitaper spectrum estimation with 7 DPSS windows\n",
      "    Using multitaper spectrum estimation with 7 DPSS windows\n",
      "    Using multitaper spectrum estimation with 7 DPSS windows\n",
      "    Using multitaper spectrum estimation with 7 DPSS windows\n",
      "    Using multitaper spectrum estimation with 7 DPSS windows\n",
      "    Using multitaper spectrum estimation with 7 DPSS windows\n",
      "    Using multitaper spectrum estimation with 7 DPSS windows\n",
      "    Using multitaper spectrum estimation with 7 DPSS windows\n",
      "    Using multitaper spectrum estimation with 7 DPSS windows\n",
      "    Using multitaper spectrum estimation with 7 DPSS windows\n",
      "    Using multitaper spectrum estimation with 7 DPSS windows\n",
      "    Using multitaper spectrum estimation with 7 DPSS windows\n",
      "    Using multitaper spectrum estimation with 7 DPSS windows\n",
      "    Using multitaper spectrum estimation with 7 DPSS windows\n",
      "    Using multitaper spectrum estimation with 7 DPSS windows\n",
      "    Using multitaper spectrum estimation with 7 DPSS windows\n",
      "    Using multitaper spectrum estimation with 7 DPSS windows\n",
      "    Using multitaper spectrum estimation with 7 DPSS windows\n",
      "    Using multitaper spectrum estimation with 7 DPSS windows\n",
      "    Using multitaper spectrum estimation with 7 DPSS windows\n",
      "    Using multitaper spectrum estimation with 7 DPSS windows\n",
      "    Using multitaper spectrum estimation with 7 DPSS windows\n",
      "    Using multitaper spectrum estimation with 7 DPSS windows\n",
      "    Using multitaper spectrum estimation with 7 DPSS windows\n",
      "    Using multitaper spectrum estimation with 7 DPSS windows\n",
      "    Using multitaper spectrum estimation with 7 DPSS windows\n",
      "    Using multitaper spectrum estimation with 7 DPSS windows\n",
      "    Using multitaper spectrum estimation with 7 DPSS windows\n",
      "    Using multitaper spectrum estimation with 7 DPSS windows\n",
      "    Using multitaper spectrum estimation with 7 DPSS windows\n",
      "    Using multitaper spectrum estimation with 7 DPSS windows\n",
      "    Using multitaper spectrum estimation with 7 DPSS windows\n",
      "    Using multitaper spectrum estimation with 7 DPSS windows\n",
      "    Using multitaper spectrum estimation with 7 DPSS windows\n",
      "    Using multitaper spectrum estimation with 7 DPSS windows\n",
      "    Using multitaper spectrum estimation with 7 DPSS windows\n",
      "    Using multitaper spectrum estimation with 7 DPSS windows\n",
      "    Using multitaper spectrum estimation with 7 DPSS windows\n",
      "    Using multitaper spectrum estimation with 7 DPSS windows\n",
      "    Using multitaper spectrum estimation with 7 DPSS windows\n",
      "    Using multitaper spectrum estimation with 7 DPSS windows\n",
      "    Using multitaper spectrum estimation with 7 DPSS windows\n",
      "    Using multitaper spectrum estimation with 7 DPSS windows\n",
      "    Using multitaper spectrum estimation with 7 DPSS windows\n",
      "    Using multitaper spectrum estimation with 7 DPSS windows\n",
      "    Using multitaper spectrum estimation with 7 DPSS windows\n",
      "    Using multitaper spectrum estimation with 7 DPSS windows\n",
      "    Using multitaper spectrum estimation with 7 DPSS windows\n",
      "    Using multitaper spectrum estimation with 7 DPSS windows\n",
      "    Using multitaper spectrum estimation with 7 DPSS windows\n"
     ]
    },
    {
     "name": "stderr",
     "output_type": "stream",
     "text": [
      "C:\\Users\\andrlm\\AppData\\Roaming\\Python\\Python310\\site-packages\\numpy\\core\\fromnumeric.py:3464: RuntimeWarning: Mean of empty slice.\n",
      "  return _methods._mean(a, axis=axis, dtype=dtype,\n",
      "C:\\Users\\andrlm\\AppData\\Roaming\\Python\\Python310\\site-packages\\numpy\\core\\_methods.py:192: RuntimeWarning: invalid value encountered in scalar divide\n",
      "  ret = ret.dtype.type(ret / rcount)\n"
     ]
    },
    {
     "ename": "TypeError",
     "evalue": "'numpy.float64' object is not iterable",
     "output_type": "error",
     "traceback": [
      "\u001b[1;31m---------------------------------------------------------------------------\u001b[0m",
      "\u001b[1;31mTypeError\u001b[0m                                 Traceback (most recent call last)",
      "Cell \u001b[1;32mIn[140], line 79\u001b[0m\n\u001b[0;32m     77\u001b[0m sns\u001b[39m.\u001b[39mlineplot(x\u001b[39m=\u001b[39msfreq,y\u001b[39m=\u001b[39m\u001b[39mlist\u001b[39m(np\u001b[39m.\u001b[39mmean(psdss[\u001b[39m'\u001b[39m\u001b[39mED: 0\u001b[39m\u001b[39m'\u001b[39m],axis\u001b[39m=\u001b[39m\u001b[39m0\u001b[39m)\u001b[39m.\u001b[39mT),label\u001b[39m=\u001b[39m\u001b[39m'\u001b[39m\u001b[39mED: 0\u001b[39m\u001b[39m'\u001b[39m)\n\u001b[0;32m     78\u001b[0m sns\u001b[39m.\u001b[39mlineplot(x\u001b[39m=\u001b[39msfreq,y\u001b[39m=\u001b[39m\u001b[39mlist\u001b[39m(np\u001b[39m.\u001b[39mmean(psdss[\u001b[39m'\u001b[39m\u001b[39mED: 1\u001b[39m\u001b[39m'\u001b[39m],axis\u001b[39m=\u001b[39m\u001b[39m0\u001b[39m)\u001b[39m.\u001b[39mT),label\u001b[39m=\u001b[39m\u001b[39m'\u001b[39m\u001b[39mED: 1\u001b[39m\u001b[39m'\u001b[39m)\n\u001b[1;32m---> 79\u001b[0m sns\u001b[39m.\u001b[39mlineplot(x\u001b[39m=\u001b[39msfreq,y\u001b[39m=\u001b[39m\u001b[39mlist\u001b[39;49m(np\u001b[39m.\u001b[39;49mmean(psdss[\u001b[39m'\u001b[39;49m\u001b[39mON: 0\u001b[39;49m\u001b[39m'\u001b[39;49m],axis\u001b[39m=\u001b[39;49m\u001b[39m0\u001b[39;49m)\u001b[39m.\u001b[39;49mT),label\u001b[39m=\u001b[39m\u001b[39m'\u001b[39m\u001b[39mON: 0\u001b[39m\u001b[39m'\u001b[39m)\n\u001b[0;32m     80\u001b[0m sns\u001b[39m.\u001b[39mlineplot(x\u001b[39m=\u001b[39msfreq,y\u001b[39m=\u001b[39m\u001b[39mlist\u001b[39m(np\u001b[39m.\u001b[39mmean(psdss[\u001b[39m'\u001b[39m\u001b[39mON: 1\u001b[39m\u001b[39m'\u001b[39m],axis\u001b[39m=\u001b[39m\u001b[39m0\u001b[39m)\u001b[39m.\u001b[39mT),label\u001b[39m=\u001b[39m\u001b[39m'\u001b[39m\u001b[39mON: 1\u001b[39m\u001b[39m'\u001b[39m)\n\u001b[0;32m     81\u001b[0m sns\u001b[39m.\u001b[39mlineplot(x\u001b[39m=\u001b[39msfreq,y\u001b[39m=\u001b[39m\u001b[39mlist\u001b[39m(np\u001b[39m.\u001b[39mmean(psdss[\u001b[39m'\u001b[39m\u001b[39mED_ON: 0\u001b[39m\u001b[39m'\u001b[39m],axis\u001b[39m=\u001b[39m\u001b[39m0\u001b[39m)\u001b[39m.\u001b[39mT),label\u001b[39m=\u001b[39m\u001b[39m'\u001b[39m\u001b[39mED_ON: 0\u001b[39m\u001b[39m'\u001b[39m)\n",
      "\u001b[1;31mTypeError\u001b[0m: 'numpy.float64' object is not iterable"
     ]
    },
    {
     "data": {
      "image/png": "[encoded data removed]",
      "text/plain": [
       "<Figure size 640x480 with 1 Axes>"
      ]
     },
     "metadata": {},
     "output_type": "display_data"
    }
   ],
   "source": [
    "#### Compare ego dissolution vs. non-ego dissolution ####\n",
    "import math\n",
    "\n",
    "#First, import ratings of ego dissolution and copy DataA to a new dictionary\n",
    "df = pd.read_excel(\"M:\\\\pc\\\\Dokumenter\\\\GitHub\\\\Ketamine-project\\\\DataCollection\\\\QuestionnaireData\\\\QuestionnaireScores.xlsx\")\n",
    "DataAd = DataA.copy()\n",
    "\n",
    "#Shorten all epochs to the last minute of recording\n",
    "for cond in DataAd.keys():\n",
    "    for pers in DataAd[cond].keys():\n",
    "        DataAd[cond][pers] = DataAd[cond][pers][-7:-1]\n",
    "\n",
    "#Label ED or non-ED and use this to compute the psd and plot the four graphs\n",
    "ket_conds = ['SED_1','SED_2','SED_3','SED_4']\n",
    "Q_corresp = [91,98,105,112]\n",
    "psdss = {'Non-ED':[],'ED: 0':[], 'ED: 1':[], 'ON: 0':[], 'ON: 1':[], 'ED_ON: 0':[], 'ED_ON: 1':[]}\n",
    "for cond in DataAd.keys():\n",
    "    for pers in DataAd[cond]:\n",
    "        psds, sfreq = mne.time_frequency.psd_array_multitaper(DataAd[cond][pers],sfreq=500)\n",
    "        if pers == '2001':\n",
    "            pers = 2001\n",
    "        if cond in ket_conds:\n",
    "            ED_sum = df.loc[Q_corresp[ket_conds.index(cond)],pers]\n",
    "            if ED_sum == ED_sum and ON_sum == ON_sum:\n",
    "                if ED_sum == 0 and ON_sum == 0:\n",
    "                    psdss['ED_ON: 0'].append(np.mean(np.mean(psds,axis=0),axis=0))\n",
    "                elif ED_sum == 1 and ON_sum == 1:\n",
    "                    psdss['ED_ON: 1'].append(np.mean(np.mean(psds,axis=0),axis=0))\n",
    "                else:\n",
    "                    if ED_sum == ED_sum:\n",
    "                        if type(ED_sum) == str:\n",
    "                            ED_sum = int(float(ED_sum))\n",
    "                        else:\n",
    "                            ED_sum = int(ED_sum)\n",
    "                        if ED_sum == 0:\n",
    "                            psdss['ED: 0'].append(np.mean(np.mean(psds,axis=0),axis=0))\n",
    "                        else:\n",
    "                            psdss['ED: 1'].append(np.mean(np.mean(psds,axis=0),axis=0))\n",
    "                    ON_sum = df.loc[Q_corresp[ket_conds.index(cond)]+1,pers]\n",
    "                    if ON_sum == ON_sum:\n",
    "                        if type(ON_sum) == str:\n",
    "                            ON_sum = int(float(ON_sum))\n",
    "                        else:\n",
    "                            ON_sum = int(ON_sum)\n",
    "                        if ON_sum == 0:\n",
    "                            psdss['ON: 0'].append(np.mean(np.mean(psds,axis=0),axis=0))\n",
    "                        else:\n",
    "                            psdss['ON: 1'].append(np.mean(np.mean(psds,axis=0),axis=0))\n",
    "            elif ED_sum == ED_sum:\n",
    "                if type(ED_sum) == str:\n",
    "                    ED_sum = int(float(ED_sum))\n",
    "                else:\n",
    "                    ED_sum = int(ED_sum)\n",
    "                if ED_sum == 0:\n",
    "                    psdss['ED: 0'].append(np.mean(np.mean(psds,axis=0),axis=0))\n",
    "                else:\n",
    "                    psdss['ED: 1'].append(np.mean(np.mean(psds,axis=0),axis=0))\n",
    "            elif ON_sum == ON_sum:\n",
    "                if type(ON_sum) == str:\n",
    "                    ON_sum = int(float(ON_sum))\n",
    "                else:\n",
    "                    ON_sum = int(ON_sum)\n",
    "                if ON_sum == 0:\n",
    "                    psdss['ON: 0'].append(np.mean(np.mean(psds,axis=0),axis=0))\n",
    "                else:\n",
    "                    psdss['ON: 1'].append(np.mean(np.mean(psds,axis=0),axis=0))\n",
    "        else: \n",
    "            psdss['Non-ED'].append(np.mean(np.mean(psds,axis=0),axis=0))\n",
    "\n",
    "import seaborn as sns\n",
    "\n",
    "sns.set_style(\"whitegrid\")\n",
    "sns.set_context(\"paper\", font_scale=1.5, rc={\"lines.linewidth\": 2.5})\n",
    "sns.set_palette(\"colorblind\")\n",
    "\n",
    "sns.lineplot(x=sfreq,y=list(np.mean(psdss['Non-ED'],axis=0).T),label='Non-ED')\n",
    "sns.lineplot(x=sfreq,y=list(np.mean(psdss['ED: 0'],axis=0).T),label='ED: 0')\n",
    "sns.lineplot(x=sfreq,y=list(np.mean(psdss['ED: 1'],axis=0).T),label='ED: 1')\n",
    "sns.lineplot(x=sfreq,y=list(np.mean(psdss['ON: 0'],axis=0).T),label='ON: 0')\n",
    "sns.lineplot(x=sfreq,y=list(np.mean(psdss['ON: 1'],axis=0).T),label='ON: 1')\n",
    "sns.lineplot(x=sfreq,y=list(np.mean(psdss['ED_ON: 0'],axis=0).T),label='ED_ON: 0')\n",
    "sns.lineplot(x=sfreq,y=list(np.mean(psdss['ED_ON: 1'],axis=0).T),label='ED_ON: 1')\n",
    "plt.yscale('log')\n",
    "plt.xlabel('Frequencies')\n",
    "plt.ylabel('log mV')\n",
    "plt.legend()\n",
    "plt.show()\n"
   ]
  },
  {
   "cell_type": "code",
   "execution_count": 111,
   "metadata": {},
   "outputs": [
    {
     "data": {
      "text/plain": [
       "23.0"
      ]
     },
     "execution_count": 111,
     "metadata": {},
     "output_type": "execute_result"
    }
   ],
   "source": [
    "df = pd.read_excel(\"M:\\\\pc\\\\Dokumenter\\\\GitHub\\\\Ketamine-project\\\\DataCollection\\\\QuestionnaireData\\\\QuestionnaireScores.xlsx\")\n",
    "df.head()\n",
    "df.loc[2,2001]"
   ]
  },
  {
   "cell_type": "code",
   "execution_count": 94,
   "metadata": {},
   "outputs": [
    {
     "name": "stdout",
     "output_type": "stream",
     "text": [
      "                          Participant ID    SD5001    SD5002    SD5007 SD5008  \\\n",
      "0                                    Sex         0         0         0      0   \n",
      "1                                 Gender         0         0         0      0   \n",
      "2                                    Age        23        28        24     27   \n",
      "3                                 Height       184       183       168    198   \n",
      "4                                 Weight        75      78.5        60     90   \n",
      "..                                   ...       ...       ...       ...    ...   \n",
      "200                              MEQ_Awe         5         5         3      2   \n",
      "201             MEQ_Part_of_ulti_reality         2         5         3      2   \n",
      "202  MEQ_Diff_convey_exp_to_unexp_people         5         5         5      5   \n",
      "203                        MEQ_Happiness         1         5         4      2   \n",
      "204                              MEQ_Avg  3.366667  4.483333  3.733333    3.2   \n",
      "\n",
      "       SD5009 SD5010   2001  Unnamed: 8  Unnamed: 9  \n",
      "0           0      0    0.0         NaN         NaN  \n",
      "1           0      0    0.0         NaN         NaN  \n",
      "2          32     25   23.0        26.5    2.986079  \n",
      "3         187    192  185.0         NaN         NaN  \n",
      "4          78    106   75.0         NaN         NaN  \n",
      "..        ...    ...    ...         ...         ...  \n",
      "200         5      0    NaN         NaN         NaN  \n",
      "201         4      0    NaN         NaN         NaN  \n",
      "202         5      2    NaN         NaN         NaN  \n",
      "203         4      3    NaN         NaN         NaN  \n",
      "204  4.633333   1.75    NaN         NaN         NaN  \n",
      "\n",
      "[205 rows x 10 columns]\n",
      "  Participant ID SD5001 SD5002 SD5007 SD5008 SD5009 SD5010  2001  Unnamed: 8  \\\n",
      "2            Age     23     28     24     27     32     25  23.0        26.5   \n",
      "\n",
      "   Unnamed: 9  \n",
      "2    2.986079  \n"
     ]
    }
   ],
   "source": [
    "df = pd.read_excel(\"M:\\\\pc\\\\Dokumenter\\\\GitHub\\\\Ketamine-project\\\\DataCollection\\\\QuestionnaireData\\\\QuestionnaireScores.xlsx\")\n",
    "print(df)\n",
    "df = df.dropna()\n",
    "print(df)"
   ]
  },
  {
   "cell_type": "code",
   "execution_count": 68,
   "metadata": {},
   "outputs": [
    {
     "name": "stdout",
     "output_type": "stream",
     "text": [
      "[]\n"
     ]
    }
   ],
   "source": [
    "print(psdss['ON: 0'])"
   ]
  }
 ],
 "metadata": {
  "kernelspec": {
   "display_name": "Python 3.10.4 64-bit",
   "language": "python",
   "name": "python3"
  },
  "language_info": {
   "codemirror_mode": {
    "name": "ipython",
    "version": 3
   },
   "file_extension": ".py",
   "mimetype": "text/x-python",
   "name": "python",
   "nbconvert_exporter": "python",
   "pygments_lexer": "ipython3",
   "version": "3.10.4"
  },
  "orig_nbformat": 4,
  "vscode": {
   "interpreter": {
    "hash": "142fce53b6f2b91b97dca80dfeb7f3677964d22b620fffd446cffe90630072c0"
   }
  }
 },
 "nbformat": 4,
 "nbformat_minor": 2
}
