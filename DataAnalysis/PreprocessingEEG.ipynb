{
 "cells": [
  {
   "cell_type": "code",
   "execution_count": 15,
   "metadata": {},
   "outputs": [
    {
     "name": "stdout",
     "output_type": "stream",
     "text": [
      "Extracting parameters from Z:\\Data\\Anesthesia_Project\\Kongsberg_ED_Study\\psych\\SD5001\\SD5001_AWAKE_REST_EO.vhdr...\n",
      "Setting channel info structure...\n"
     ]
    }
   ],
   "source": [
    "from mne import io\n",
    "import matplotlib.pyplot as plt\n",
    "import matplotlib as mpl\n",
    "from autoreject import AutoReject\n",
    "\n",
    "%matplotlib qt\n",
    "\n",
    "vhdr_fname = 'Z:\\\\Data\\\\Anesthesia_Project\\\\Kongsberg_ED_Study\\\\psych\\\\SD5001\\\\SD5001_AWAKE_REST_EO.vhdr'\n",
    "\n",
    "raw = io.read_raw_brainvision(vhdr_fname)"
   ]
  },
  {
   "cell_type": "code",
   "execution_count": 4,
   "metadata": {},
   "outputs": [
    {
     "ename": "KeyboardInterrupt",
     "evalue": "",
     "output_type": "error",
     "traceback": [
      "\u001b[1;31m---------------------------------------------------------------------------\u001b[0m",
      "\u001b[1;31mKeyboardInterrupt\u001b[0m                         Traceback (most recent call last)",
      "Cell \u001b[1;32mIn[4], line 1\u001b[0m\n\u001b[1;32m----> 1\u001b[0m raw\u001b[39m.\u001b[39;49mplot(duration\u001b[39m=\u001b[39;49m\u001b[39m10\u001b[39;49m, start\u001b[39m=\u001b[39;49m\u001b[39m0\u001b[39;49m, n_channels\u001b[39m=\u001b[39;49m \u001b[39m64\u001b[39;49m, scalings \u001b[39m=\u001b[39;49m \u001b[39m'\u001b[39;49m\u001b[39mauto\u001b[39;49m\u001b[39m'\u001b[39;49m, block\u001b[39m=\u001b[39;49m\u001b[39mTrue\u001b[39;49;00m)\n",
      "File \u001b[1;32m~\\AppData\\Roaming\\Python\\Python310\\site-packages\\mne\\io\\base.py:1530\u001b[0m, in \u001b[0;36mBaseRaw.plot\u001b[1;34m(self, events, duration, start, n_channels, bgcolor, color, bad_color, event_color, scalings, remove_dc, order, show_options, title, show, block, highpass, lowpass, filtorder, clipping, show_first_samp, proj, group_by, butterfly, decim, noise_cov, event_id, show_scrollbars, show_scalebars, time_format, precompute, use_opengl, theme, overview_mode, verbose)\u001b[0m\n\u001b[0;32m   1519\u001b[0m \u001b[39m@copy_function_doc_to_method_doc\u001b[39m(plot_raw)\n\u001b[0;32m   1520\u001b[0m \u001b[39mdef\u001b[39;00m \u001b[39mplot\u001b[39m(\u001b[39mself\u001b[39m, events\u001b[39m=\u001b[39m\u001b[39mNone\u001b[39;00m, duration\u001b[39m=\u001b[39m\u001b[39m10.0\u001b[39m, start\u001b[39m=\u001b[39m\u001b[39m0.0\u001b[39m, n_channels\u001b[39m=\u001b[39m\u001b[39m20\u001b[39m,\n\u001b[0;32m   1521\u001b[0m          bgcolor\u001b[39m=\u001b[39m\u001b[39m'\u001b[39m\u001b[39mw\u001b[39m\u001b[39m'\u001b[39m, color\u001b[39m=\u001b[39m\u001b[39mNone\u001b[39;00m, bad_color\u001b[39m=\u001b[39m\u001b[39m'\u001b[39m\u001b[39mlightgray\u001b[39m\u001b[39m'\u001b[39m,\n\u001b[1;32m   (...)\u001b[0m\n\u001b[0;32m   1528\u001b[0m          precompute\u001b[39m=\u001b[39m\u001b[39mNone\u001b[39;00m, use_opengl\u001b[39m=\u001b[39m\u001b[39mNone\u001b[39;00m, \u001b[39m*\u001b[39m, theme\u001b[39m=\u001b[39m\u001b[39mNone\u001b[39;00m,\n\u001b[0;32m   1529\u001b[0m          overview_mode\u001b[39m=\u001b[39m\u001b[39mNone\u001b[39;00m, verbose\u001b[39m=\u001b[39m\u001b[39mNone\u001b[39;00m):\n\u001b[1;32m-> 1530\u001b[0m     \u001b[39mreturn\u001b[39;00m plot_raw(\u001b[39mself\u001b[39;49m, events, duration, start, n_channels, bgcolor,\n\u001b[0;32m   1531\u001b[0m                     color, bad_color, event_color, scalings, remove_dc,\n\u001b[0;32m   1532\u001b[0m                     order, show_options, title, show, block, highpass,\n\u001b[0;32m   1533\u001b[0m                     lowpass, filtorder, clipping, show_first_samp,\n\u001b[0;32m   1534\u001b[0m                     proj, group_by, butterfly, decim, noise_cov\u001b[39m=\u001b[39;49mnoise_cov,\n\u001b[0;32m   1535\u001b[0m                     event_id\u001b[39m=\u001b[39;49mevent_id, show_scrollbars\u001b[39m=\u001b[39;49mshow_scrollbars,\n\u001b[0;32m   1536\u001b[0m                     show_scalebars\u001b[39m=\u001b[39;49mshow_scalebars, time_format\u001b[39m=\u001b[39;49mtime_format,\n\u001b[0;32m   1537\u001b[0m                     precompute\u001b[39m=\u001b[39;49mprecompute, use_opengl\u001b[39m=\u001b[39;49muse_opengl,\n\u001b[0;32m   1538\u001b[0m                     theme\u001b[39m=\u001b[39;49mtheme, overview_mode\u001b[39m=\u001b[39;49moverview_mode,\n\u001b[0;32m   1539\u001b[0m                     verbose\u001b[39m=\u001b[39;49mverbose)\n",
      "File \u001b[1;32m<decorator-gen-157>:12\u001b[0m, in \u001b[0;36mplot_raw\u001b[1;34m(raw, events, duration, start, n_channels, bgcolor, color, bad_color, event_color, scalings, remove_dc, order, show_options, title, show, block, highpass, lowpass, filtorder, clipping, show_first_samp, proj, group_by, butterfly, decim, noise_cov, event_id, show_scrollbars, show_scalebars, time_format, precompute, use_opengl, theme, overview_mode, verbose)\u001b[0m\n",
      "File \u001b[1;32m~\\AppData\\Roaming\\Python\\Python310\\site-packages\\mne\\viz\\raw.py:359\u001b[0m, in \u001b[0;36mplot_raw\u001b[1;34m(raw, events, duration, start, n_channels, bgcolor, color, bad_color, event_color, scalings, remove_dc, order, show_options, title, show, block, highpass, lowpass, filtorder, clipping, show_first_samp, proj, group_by, butterfly, decim, noise_cov, event_id, show_scrollbars, show_scalebars, time_format, precompute, use_opengl, theme, overview_mode, verbose)\u001b[0m\n\u001b[0;32m    306\u001b[0m precompute \u001b[39m=\u001b[39m _handle_precompute(precompute)\n\u001b[0;32m    307\u001b[0m params \u001b[39m=\u001b[39m \u001b[39mdict\u001b[39m(inst\u001b[39m=\u001b[39mraw,\n\u001b[0;32m    308\u001b[0m               info\u001b[39m=\u001b[39minfo,\n\u001b[0;32m    309\u001b[0m               \u001b[39m# channels and channel order\u001b[39;00m\n\u001b[1;32m   (...)\u001b[0m\n\u001b[0;32m    356\u001b[0m               overview_mode\u001b[39m=\u001b[39moverview_mode,\n\u001b[0;32m    357\u001b[0m               )\n\u001b[1;32m--> 359\u001b[0m fig \u001b[39m=\u001b[39m _get_browser(show\u001b[39m=\u001b[39mshow, block\u001b[39m=\u001b[39mblock, \u001b[39m*\u001b[39m\u001b[39m*\u001b[39mparams)\n\u001b[0;32m    361\u001b[0m \u001b[39mreturn\u001b[39;00m fig\n",
      "File \u001b[1;32m~\\AppData\\Roaming\\Python\\Python310\\site-packages\\mne\\viz\\_figure.py:662\u001b[0m, in \u001b[0;36m_get_browser\u001b[1;34m(show, block, **kwargs)\u001b[0m\n\u001b[0;32m    660\u001b[0m \u001b[39m# Initialize Browser\u001b[39;00m\n\u001b[0;32m    661\u001b[0m fig \u001b[39m=\u001b[39m backend\u001b[39m.\u001b[39m_init_browser(\u001b[39m*\u001b[39m\u001b[39m*\u001b[39mkwargs)\n\u001b[1;32m--> 662\u001b[0m _show_browser(show\u001b[39m=\u001b[39;49mshow, block\u001b[39m=\u001b[39;49mblock, fig\u001b[39m=\u001b[39;49mfig)\n\u001b[0;32m    664\u001b[0m \u001b[39mreturn\u001b[39;00m fig\n",
      "File \u001b[1;32m~\\AppData\\Roaming\\Python\\Python310\\site-packages\\mne\\viz\\utils.py:161\u001b[0m, in \u001b[0;36m_show_browser\u001b[1;34m(show, block, fig, **kwargs)\u001b[0m\n\u001b[0;32m    159\u001b[0m     block \u001b[39m=\u001b[39m \u001b[39mFalse\u001b[39;00m\n\u001b[0;32m    160\u001b[0m \u001b[39mif\u001b[39;00m backend \u001b[39m==\u001b[39m \u001b[39m'\u001b[39m\u001b[39mmatplotlib\u001b[39m\u001b[39m'\u001b[39m:\n\u001b[1;32m--> 161\u001b[0m     plt_show(show, block\u001b[39m=\u001b[39mblock, \u001b[39m*\u001b[39m\u001b[39m*\u001b[39mkwargs)\n\u001b[0;32m    162\u001b[0m \u001b[39melse\u001b[39;00m:\n\u001b[0;32m    163\u001b[0m     \u001b[39mfrom\u001b[39;00m \u001b[39mqtpy\u001b[39;00m\u001b[39m.\u001b[39;00m\u001b[39mQtWidgets\u001b[39;00m \u001b[39mimport\u001b[39;00m QApplication\n",
      "File \u001b[1;32m~\\AppData\\Roaming\\Python\\Python310\\site-packages\\mne\\viz\\utils.py:137\u001b[0m, in \u001b[0;36mplt_show\u001b[1;34m(show, fig, **kwargs)\u001b[0m\n\u001b[0;32m    135\u001b[0m     backend \u001b[39m=\u001b[39m get_backend()\n\u001b[0;32m    136\u001b[0m \u001b[39mif\u001b[39;00m show \u001b[39mand\u001b[39;00m backend \u001b[39m!=\u001b[39m \u001b[39m'\u001b[39m\u001b[39magg\u001b[39m\u001b[39m'\u001b[39m:\n\u001b[1;32m--> 137\u001b[0m     (fig \u001b[39mor\u001b[39;00m plt)\u001b[39m.\u001b[39mshow(\u001b[39m*\u001b[39m\u001b[39m*\u001b[39mkwargs)\n",
      "File \u001b[1;32m~\\AppData\\Roaming\\Python\\Python310\\site-packages\\matplotlib\\pyplot.py:421\u001b[0m, in \u001b[0;36mshow\u001b[1;34m(*args, **kwargs)\u001b[0m\n\u001b[0;32m    377\u001b[0m \u001b[39m\u001b[39m\u001b[39m\"\"\"\u001b[39;00m\n\u001b[0;32m    378\u001b[0m \u001b[39mDisplay all open figures.\u001b[39;00m\n\u001b[0;32m    379\u001b[0m \n\u001b[1;32m   (...)\u001b[0m\n\u001b[0;32m    418\u001b[0m \u001b[39mexplicitly there.\u001b[39;00m\n\u001b[0;32m    419\u001b[0m \u001b[39m\"\"\"\u001b[39;00m\n\u001b[0;32m    420\u001b[0m _warn_if_gui_out_of_main_thread()\n\u001b[1;32m--> 421\u001b[0m \u001b[39mreturn\u001b[39;00m _get_backend_mod()\u001b[39m.\u001b[39mshow(\u001b[39m*\u001b[39margs, \u001b[39m*\u001b[39m\u001b[39m*\u001b[39mkwargs)\n",
      "File \u001b[1;32m~\\AppData\\Roaming\\Python\\Python310\\site-packages\\matplotlib\\backend_bases.py:3554\u001b[0m, in \u001b[0;36m_Backend.show\u001b[1;34m(cls, block)\u001b[0m\n\u001b[0;32m   3552\u001b[0m     block \u001b[39m=\u001b[39m \u001b[39mnot\u001b[39;00m ipython_pylab \u001b[39mand\u001b[39;00m \u001b[39mnot\u001b[39;00m is_interactive()\n\u001b[0;32m   3553\u001b[0m \u001b[39mif\u001b[39;00m block:\n\u001b[1;32m-> 3554\u001b[0m     \u001b[39mcls\u001b[39;49m\u001b[39m.\u001b[39;49mmainloop()\n",
      "File \u001b[1;32m~\\AppData\\Roaming\\Python\\Python310\\site-packages\\matplotlib\\backends\\backend_qt.py:1021\u001b[0m, in \u001b[0;36m_BackendQT.mainloop\u001b[1;34m()\u001b[0m\n\u001b[0;32m   1018\u001b[0m \u001b[39m@staticmethod\u001b[39m\n\u001b[0;32m   1019\u001b[0m \u001b[39mdef\u001b[39;00m \u001b[39mmainloop\u001b[39m():\n\u001b[0;32m   1020\u001b[0m     qapp \u001b[39m=\u001b[39m QtWidgets\u001b[39m.\u001b[39mQApplication\u001b[39m.\u001b[39minstance()\n\u001b[1;32m-> 1021\u001b[0m     \u001b[39mwith\u001b[39;00m _maybe_allow_interrupt(qapp):\n\u001b[0;32m   1022\u001b[0m         qt_compat\u001b[39m.\u001b[39m_exec(qapp)\n",
      "File \u001b[1;32mc:\\Program Files\\Python3.10\\lib\\contextlib.py:142\u001b[0m, in \u001b[0;36m_GeneratorContextManager.__exit__\u001b[1;34m(self, typ, value, traceback)\u001b[0m\n\u001b[0;32m    140\u001b[0m \u001b[39mif\u001b[39;00m typ \u001b[39mis\u001b[39;00m \u001b[39mNone\u001b[39;00m:\n\u001b[0;32m    141\u001b[0m     \u001b[39mtry\u001b[39;00m:\n\u001b[1;32m--> 142\u001b[0m         \u001b[39mnext\u001b[39;49m(\u001b[39mself\u001b[39;49m\u001b[39m.\u001b[39;49mgen)\n\u001b[0;32m    143\u001b[0m     \u001b[39mexcept\u001b[39;00m \u001b[39mStopIteration\u001b[39;00m:\n\u001b[0;32m    144\u001b[0m         \u001b[39mreturn\u001b[39;00m \u001b[39mFalse\u001b[39;00m\n",
      "File \u001b[1;32m~\\AppData\\Roaming\\Python\\Python310\\site-packages\\matplotlib\\backends\\qt_compat.py:269\u001b[0m, in \u001b[0;36m_maybe_allow_interrupt\u001b[1;34m(qapp)\u001b[0m\n\u001b[0;32m    267\u001b[0m signal\u001b[39m.\u001b[39msignal(signal\u001b[39m.\u001b[39mSIGINT, old_sigint_handler)\n\u001b[0;32m    268\u001b[0m \u001b[39mif\u001b[39;00m handler_args \u001b[39mis\u001b[39;00m \u001b[39mnot\u001b[39;00m \u001b[39mNone\u001b[39;00m:\n\u001b[1;32m--> 269\u001b[0m     old_sigint_handler(\u001b[39m*\u001b[39;49mhandler_args)\n",
      "\u001b[1;31mKeyboardInterrupt\u001b[0m: "
     ]
    }
   ],
   "source": [
    "raw.plot(duration=10, start=0, n_channels= 64, scalings = 'auto', block=True)\n"
   ]
  },
  {
   "cell_type": "code",
   "execution_count": null,
   "metadata": {},
   "outputs": [],
   "source": [
    "epochs = mne.Epochs(raw)"
   ]
  },
  {
   "cell_type": "code",
   "execution_count": null,
   "metadata": {},
   "outputs": [],
   "source": [
    "ar = AutoReject()\n",
    "epochs_clean = ar.fit_transform(epochs) "
   ]
  },
  {
   "cell_type": "code",
   "execution_count": 13,
   "metadata": {},
   "outputs": [
    {
     "name": "stderr",
     "output_type": "stream",
     "text": [
      "C:\\Users\\andrlm\\AppData\\Local\\Temp\\ipykernel_14568\\1324410508.py:3: RuntimeWarning: No bad channels to interpolate. Doing nothing...\n",
      "  eeg_data_interp = eeg_data.copy().interpolate_bads(reset_bads=False)\n"
     ]
    }
   ],
   "source": [
    "raw.load_data()\n",
    "\n",
    "eeg_data = raw.copy().pick_types(eeg=True, exclude=[])\n",
    "eeg_data_interp = eeg_data.copy().interpolate_bads(reset_bads=False)"
   ]
  }
 ],
 "metadata": {
  "kernelspec": {
   "display_name": "Python 3.10.4 64-bit",
   "language": "python",
   "name": "python3"
  },
  "language_info": {
   "codemirror_mode": {
    "name": "ipython",
    "version": 3
   },
   "file_extension": ".py",
   "mimetype": "text/x-python",
   "name": "python",
   "nbconvert_exporter": "python",
   "pygments_lexer": "ipython3",
   "version": "3.10.4"
  },
  "orig_nbformat": 4,
  "vscode": {
   "interpreter": {
    "hash": "142fce53b6f2b91b97dca80dfeb7f3677964d22b620fffd446cffe90630072c0"
   }
  }
 },
 "nbformat": 4,
 "nbformat_minor": 2
}
